{
 "cells": [
  {
   "cell_type": "code",
   "execution_count": 1,
   "id": "85846cd7",
   "metadata": {},
   "outputs": [],
   "source": [
    "import pandas as pd\n",
    "import numpy as np\n",
    "import seaborn as sns\n",
    "from matplotlib import pyplot as plt\n",
    "%matplotlib inline\n",
    "import matplotlib"
   ]
  },
  {
   "cell_type": "code",
   "execution_count": 2,
   "id": "7d951365",
   "metadata": {},
   "outputs": [],
   "source": [
    "df=pd.read_csv(r'C:\\Users\\A_R_COMPUTERS\\Desktop\\new DS\\BANhouseprice\\Bengaluru_House_Data.csv')"
   ]
  },
  {
   "cell_type": "code",
   "execution_count": 3,
   "id": "5e63bf2d",
   "metadata": {},
   "outputs": [
    {
     "data": {
      "text/html": [
       "<div>\n",
       "<style scoped>\n",
       "    .dataframe tbody tr th:only-of-type {\n",
       "        vertical-align: middle;\n",
       "    }\n",
       "\n",
       "    .dataframe tbody tr th {\n",
       "        vertical-align: top;\n",
       "    }\n",
       "\n",
       "    .dataframe thead th {\n",
       "        text-align: right;\n",
       "    }\n",
       "</style>\n",
       "<table border=\"1\" class=\"dataframe\">\n",
       "  <thead>\n",
       "    <tr style=\"text-align: right;\">\n",
       "      <th></th>\n",
       "      <th>area_type</th>\n",
       "      <th>availability</th>\n",
       "      <th>location</th>\n",
       "      <th>size</th>\n",
       "      <th>society</th>\n",
       "      <th>total_sqft</th>\n",
       "      <th>bath</th>\n",
       "      <th>balcony</th>\n",
       "      <th>price</th>\n",
       "    </tr>\n",
       "  </thead>\n",
       "  <tbody>\n",
       "    <tr>\n",
       "      <th>0</th>\n",
       "      <td>Super built-up  Area</td>\n",
       "      <td>19-Dec</td>\n",
       "      <td>Electronic City Phase II</td>\n",
       "      <td>2 BHK</td>\n",
       "      <td>Coomee</td>\n",
       "      <td>1056</td>\n",
       "      <td>2.0</td>\n",
       "      <td>1.0</td>\n",
       "      <td>39.07</td>\n",
       "    </tr>\n",
       "    <tr>\n",
       "      <th>1</th>\n",
       "      <td>Plot  Area</td>\n",
       "      <td>Ready To Move</td>\n",
       "      <td>Chikka Tirupathi</td>\n",
       "      <td>4 Bedroom</td>\n",
       "      <td>Theanmp</td>\n",
       "      <td>2600</td>\n",
       "      <td>5.0</td>\n",
       "      <td>3.0</td>\n",
       "      <td>120.00</td>\n",
       "    </tr>\n",
       "    <tr>\n",
       "      <th>2</th>\n",
       "      <td>Built-up  Area</td>\n",
       "      <td>Ready To Move</td>\n",
       "      <td>Uttarahalli</td>\n",
       "      <td>3 BHK</td>\n",
       "      <td>NaN</td>\n",
       "      <td>1440</td>\n",
       "      <td>2.0</td>\n",
       "      <td>3.0</td>\n",
       "      <td>62.00</td>\n",
       "    </tr>\n",
       "    <tr>\n",
       "      <th>3</th>\n",
       "      <td>Super built-up  Area</td>\n",
       "      <td>Ready To Move</td>\n",
       "      <td>Lingadheeranahalli</td>\n",
       "      <td>3 BHK</td>\n",
       "      <td>Soiewre</td>\n",
       "      <td>1521</td>\n",
       "      <td>3.0</td>\n",
       "      <td>1.0</td>\n",
       "      <td>95.00</td>\n",
       "    </tr>\n",
       "    <tr>\n",
       "      <th>4</th>\n",
       "      <td>Super built-up  Area</td>\n",
       "      <td>Ready To Move</td>\n",
       "      <td>Kothanur</td>\n",
       "      <td>2 BHK</td>\n",
       "      <td>NaN</td>\n",
       "      <td>1200</td>\n",
       "      <td>2.0</td>\n",
       "      <td>1.0</td>\n",
       "      <td>51.00</td>\n",
       "    </tr>\n",
       "  </tbody>\n",
       "</table>\n",
       "</div>"
      ],
      "text/plain": [
       "              area_type   availability                  location       size  \\\n",
       "0  Super built-up  Area         19-Dec  Electronic City Phase II      2 BHK   \n",
       "1            Plot  Area  Ready To Move          Chikka Tirupathi  4 Bedroom   \n",
       "2        Built-up  Area  Ready To Move               Uttarahalli      3 BHK   \n",
       "3  Super built-up  Area  Ready To Move        Lingadheeranahalli      3 BHK   \n",
       "4  Super built-up  Area  Ready To Move                  Kothanur      2 BHK   \n",
       "\n",
       "   society total_sqft  bath  balcony   price  \n",
       "0  Coomee        1056   2.0      1.0   39.07  \n",
       "1  Theanmp       2600   5.0      3.0  120.00  \n",
       "2      NaN       1440   2.0      3.0   62.00  \n",
       "3  Soiewre       1521   3.0      1.0   95.00  \n",
       "4      NaN       1200   2.0      1.0   51.00  "
      ]
     },
     "execution_count": 3,
     "metadata": {},
     "output_type": "execute_result"
    }
   ],
   "source": [
    "df.head()"
   ]
  },
  {
   "cell_type": "code",
   "execution_count": 4,
   "id": "149912bb",
   "metadata": {},
   "outputs": [
    {
     "data": {
      "text/plain": [
       "Super built-up  Area    8790\n",
       "Built-up  Area          2418\n",
       "Plot  Area              2025\n",
       "Carpet  Area              87\n",
       "Name: area_type, dtype: int64"
      ]
     },
     "execution_count": 4,
     "metadata": {},
     "output_type": "execute_result"
    }
   ],
   "source": [
    "df['area_type'].value_counts()"
   ]
  },
  {
   "cell_type": "code",
   "execution_count": null,
   "id": "2989260d",
   "metadata": {},
   "outputs": [],
   "source": []
  },
  {
   "cell_type": "markdown",
   "id": "b64fb693",
   "metadata": {},
   "source": [
    "Assuming some coloumns are not importtant"
   ]
  },
  {
   "cell_type": "code",
   "execution_count": 5,
   "id": "9e8e478a",
   "metadata": {},
   "outputs": [],
   "source": [
    "df1=df.drop(['area_type','availability','society'],1)"
   ]
  },
  {
   "cell_type": "code",
   "execution_count": 6,
   "id": "c8cc18ad",
   "metadata": {},
   "outputs": [
    {
     "data": {
      "text/html": [
       "<div>\n",
       "<style scoped>\n",
       "    .dataframe tbody tr th:only-of-type {\n",
       "        vertical-align: middle;\n",
       "    }\n",
       "\n",
       "    .dataframe tbody tr th {\n",
       "        vertical-align: top;\n",
       "    }\n",
       "\n",
       "    .dataframe thead th {\n",
       "        text-align: right;\n",
       "    }\n",
       "</style>\n",
       "<table border=\"1\" class=\"dataframe\">\n",
       "  <thead>\n",
       "    <tr style=\"text-align: right;\">\n",
       "      <th></th>\n",
       "      <th>location</th>\n",
       "      <th>size</th>\n",
       "      <th>total_sqft</th>\n",
       "      <th>bath</th>\n",
       "      <th>balcony</th>\n",
       "      <th>price</th>\n",
       "    </tr>\n",
       "  </thead>\n",
       "  <tbody>\n",
       "    <tr>\n",
       "      <th>0</th>\n",
       "      <td>Electronic City Phase II</td>\n",
       "      <td>2 BHK</td>\n",
       "      <td>1056</td>\n",
       "      <td>2.0</td>\n",
       "      <td>1.0</td>\n",
       "      <td>39.07</td>\n",
       "    </tr>\n",
       "    <tr>\n",
       "      <th>1</th>\n",
       "      <td>Chikka Tirupathi</td>\n",
       "      <td>4 Bedroom</td>\n",
       "      <td>2600</td>\n",
       "      <td>5.0</td>\n",
       "      <td>3.0</td>\n",
       "      <td>120.00</td>\n",
       "    </tr>\n",
       "    <tr>\n",
       "      <th>2</th>\n",
       "      <td>Uttarahalli</td>\n",
       "      <td>3 BHK</td>\n",
       "      <td>1440</td>\n",
       "      <td>2.0</td>\n",
       "      <td>3.0</td>\n",
       "      <td>62.00</td>\n",
       "    </tr>\n",
       "    <tr>\n",
       "      <th>3</th>\n",
       "      <td>Lingadheeranahalli</td>\n",
       "      <td>3 BHK</td>\n",
       "      <td>1521</td>\n",
       "      <td>3.0</td>\n",
       "      <td>1.0</td>\n",
       "      <td>95.00</td>\n",
       "    </tr>\n",
       "    <tr>\n",
       "      <th>4</th>\n",
       "      <td>Kothanur</td>\n",
       "      <td>2 BHK</td>\n",
       "      <td>1200</td>\n",
       "      <td>2.0</td>\n",
       "      <td>1.0</td>\n",
       "      <td>51.00</td>\n",
       "    </tr>\n",
       "  </tbody>\n",
       "</table>\n",
       "</div>"
      ],
      "text/plain": [
       "                   location       size total_sqft  bath  balcony   price\n",
       "0  Electronic City Phase II      2 BHK       1056   2.0      1.0   39.07\n",
       "1          Chikka Tirupathi  4 Bedroom       2600   5.0      3.0  120.00\n",
       "2               Uttarahalli      3 BHK       1440   2.0      3.0   62.00\n",
       "3        Lingadheeranahalli      3 BHK       1521   3.0      1.0   95.00\n",
       "4                  Kothanur      2 BHK       1200   2.0      1.0   51.00"
      ]
     },
     "execution_count": 6,
     "metadata": {},
     "output_type": "execute_result"
    }
   ],
   "source": [
    "df1.head()"
   ]
  },
  {
   "cell_type": "code",
   "execution_count": 7,
   "id": "56f064f5",
   "metadata": {},
   "outputs": [
    {
     "data": {
      "text/plain": [
       "location      0.000075\n",
       "size          0.001201\n",
       "total_sqft    0.000000\n",
       "bath          0.005480\n",
       "balcony       0.045721\n",
       "price         0.000000\n",
       "dtype: float64"
      ]
     },
     "execution_count": 7,
     "metadata": {},
     "output_type": "execute_result"
    }
   ],
   "source": [
    "df1.isnull().mean()"
   ]
  },
  {
   "cell_type": "code",
   "execution_count": 8,
   "id": "71b8d25c",
   "metadata": {},
   "outputs": [],
   "source": [
    "df1=df1.dropna()"
   ]
  },
  {
   "cell_type": "code",
   "execution_count": 9,
   "id": "645c9a27",
   "metadata": {},
   "outputs": [
    {
     "data": {
      "text/plain": [
       "location      0\n",
       "size          0\n",
       "total_sqft    0\n",
       "bath          0\n",
       "balcony       0\n",
       "price         0\n",
       "dtype: int64"
      ]
     },
     "execution_count": 9,
     "metadata": {},
     "output_type": "execute_result"
    }
   ],
   "source": [
    "df1.isnull().sum()"
   ]
  },
  {
   "cell_type": "markdown",
   "id": "a9a9a6d3",
   "metadata": {},
   "source": [
    "Trying to split the size coloumns"
   ]
  },
  {
   "cell_type": "code",
   "execution_count": 10,
   "id": "559d91f0",
   "metadata": {},
   "outputs": [],
   "source": [
    "df1['bhk']=df1['size'].apply(lambda x: int(x.split(' ')[0]))"
   ]
  },
  {
   "cell_type": "code",
   "execution_count": 11,
   "id": "e5992b6f",
   "metadata": {},
   "outputs": [
    {
     "data": {
      "text/html": [
       "<div>\n",
       "<style scoped>\n",
       "    .dataframe tbody tr th:only-of-type {\n",
       "        vertical-align: middle;\n",
       "    }\n",
       "\n",
       "    .dataframe tbody tr th {\n",
       "        vertical-align: top;\n",
       "    }\n",
       "\n",
       "    .dataframe thead th {\n",
       "        text-align: right;\n",
       "    }\n",
       "</style>\n",
       "<table border=\"1\" class=\"dataframe\">\n",
       "  <thead>\n",
       "    <tr style=\"text-align: right;\">\n",
       "      <th></th>\n",
       "      <th>location</th>\n",
       "      <th>size</th>\n",
       "      <th>total_sqft</th>\n",
       "      <th>bath</th>\n",
       "      <th>balcony</th>\n",
       "      <th>price</th>\n",
       "      <th>bhk</th>\n",
       "    </tr>\n",
       "  </thead>\n",
       "  <tbody>\n",
       "    <tr>\n",
       "      <th>0</th>\n",
       "      <td>Electronic City Phase II</td>\n",
       "      <td>2 BHK</td>\n",
       "      <td>1056</td>\n",
       "      <td>2.0</td>\n",
       "      <td>1.0</td>\n",
       "      <td>39.07</td>\n",
       "      <td>2</td>\n",
       "    </tr>\n",
       "    <tr>\n",
       "      <th>1</th>\n",
       "      <td>Chikka Tirupathi</td>\n",
       "      <td>4 Bedroom</td>\n",
       "      <td>2600</td>\n",
       "      <td>5.0</td>\n",
       "      <td>3.0</td>\n",
       "      <td>120.00</td>\n",
       "      <td>4</td>\n",
       "    </tr>\n",
       "    <tr>\n",
       "      <th>2</th>\n",
       "      <td>Uttarahalli</td>\n",
       "      <td>3 BHK</td>\n",
       "      <td>1440</td>\n",
       "      <td>2.0</td>\n",
       "      <td>3.0</td>\n",
       "      <td>62.00</td>\n",
       "      <td>3</td>\n",
       "    </tr>\n",
       "    <tr>\n",
       "      <th>3</th>\n",
       "      <td>Lingadheeranahalli</td>\n",
       "      <td>3 BHK</td>\n",
       "      <td>1521</td>\n",
       "      <td>3.0</td>\n",
       "      <td>1.0</td>\n",
       "      <td>95.00</td>\n",
       "      <td>3</td>\n",
       "    </tr>\n",
       "    <tr>\n",
       "      <th>4</th>\n",
       "      <td>Kothanur</td>\n",
       "      <td>2 BHK</td>\n",
       "      <td>1200</td>\n",
       "      <td>2.0</td>\n",
       "      <td>1.0</td>\n",
       "      <td>51.00</td>\n",
       "      <td>2</td>\n",
       "    </tr>\n",
       "    <tr>\n",
       "      <th>5</th>\n",
       "      <td>Whitefield</td>\n",
       "      <td>2 BHK</td>\n",
       "      <td>1170</td>\n",
       "      <td>2.0</td>\n",
       "      <td>1.0</td>\n",
       "      <td>38.00</td>\n",
       "      <td>2</td>\n",
       "    </tr>\n",
       "    <tr>\n",
       "      <th>8</th>\n",
       "      <td>Marathahalli</td>\n",
       "      <td>3 BHK</td>\n",
       "      <td>1310</td>\n",
       "      <td>3.0</td>\n",
       "      <td>1.0</td>\n",
       "      <td>63.25</td>\n",
       "      <td>3</td>\n",
       "    </tr>\n",
       "    <tr>\n",
       "      <th>10</th>\n",
       "      <td>Whitefield</td>\n",
       "      <td>3 BHK</td>\n",
       "      <td>1800</td>\n",
       "      <td>2.0</td>\n",
       "      <td>2.0</td>\n",
       "      <td>70.00</td>\n",
       "      <td>3</td>\n",
       "    </tr>\n",
       "    <tr>\n",
       "      <th>11</th>\n",
       "      <td>Whitefield</td>\n",
       "      <td>4 Bedroom</td>\n",
       "      <td>2785</td>\n",
       "      <td>5.0</td>\n",
       "      <td>3.0</td>\n",
       "      <td>295.00</td>\n",
       "      <td>4</td>\n",
       "    </tr>\n",
       "    <tr>\n",
       "      <th>12</th>\n",
       "      <td>7th Phase JP Nagar</td>\n",
       "      <td>2 BHK</td>\n",
       "      <td>1000</td>\n",
       "      <td>2.0</td>\n",
       "      <td>1.0</td>\n",
       "      <td>38.00</td>\n",
       "      <td>2</td>\n",
       "    </tr>\n",
       "    <tr>\n",
       "      <th>13</th>\n",
       "      <td>Gottigere</td>\n",
       "      <td>2 BHK</td>\n",
       "      <td>1100</td>\n",
       "      <td>2.0</td>\n",
       "      <td>2.0</td>\n",
       "      <td>40.00</td>\n",
       "      <td>2</td>\n",
       "    </tr>\n",
       "    <tr>\n",
       "      <th>14</th>\n",
       "      <td>Sarjapur</td>\n",
       "      <td>3 Bedroom</td>\n",
       "      <td>2250</td>\n",
       "      <td>3.0</td>\n",
       "      <td>2.0</td>\n",
       "      <td>148.00</td>\n",
       "      <td>3</td>\n",
       "    </tr>\n",
       "    <tr>\n",
       "      <th>15</th>\n",
       "      <td>Mysore Road</td>\n",
       "      <td>2 BHK</td>\n",
       "      <td>1175</td>\n",
       "      <td>2.0</td>\n",
       "      <td>2.0</td>\n",
       "      <td>73.50</td>\n",
       "      <td>2</td>\n",
       "    </tr>\n",
       "    <tr>\n",
       "      <th>16</th>\n",
       "      <td>Bisuvanahalli</td>\n",
       "      <td>3 BHK</td>\n",
       "      <td>1180</td>\n",
       "      <td>3.0</td>\n",
       "      <td>2.0</td>\n",
       "      <td>48.00</td>\n",
       "      <td>3</td>\n",
       "    </tr>\n",
       "    <tr>\n",
       "      <th>17</th>\n",
       "      <td>Raja Rajeshwari Nagar</td>\n",
       "      <td>3 BHK</td>\n",
       "      <td>1540</td>\n",
       "      <td>3.0</td>\n",
       "      <td>3.0</td>\n",
       "      <td>60.00</td>\n",
       "      <td>3</td>\n",
       "    </tr>\n",
       "    <tr>\n",
       "      <th>18</th>\n",
       "      <td>Ramakrishnappa Layout</td>\n",
       "      <td>3 BHK</td>\n",
       "      <td>2770</td>\n",
       "      <td>4.0</td>\n",
       "      <td>2.0</td>\n",
       "      <td>290.00</td>\n",
       "      <td>3</td>\n",
       "    </tr>\n",
       "    <tr>\n",
       "      <th>19</th>\n",
       "      <td>Manayata Tech Park</td>\n",
       "      <td>2 BHK</td>\n",
       "      <td>1100</td>\n",
       "      <td>2.0</td>\n",
       "      <td>2.0</td>\n",
       "      <td>48.00</td>\n",
       "      <td>2</td>\n",
       "    </tr>\n",
       "    <tr>\n",
       "      <th>20</th>\n",
       "      <td>Kengeri</td>\n",
       "      <td>1 BHK</td>\n",
       "      <td>600</td>\n",
       "      <td>1.0</td>\n",
       "      <td>1.0</td>\n",
       "      <td>15.00</td>\n",
       "      <td>1</td>\n",
       "    </tr>\n",
       "    <tr>\n",
       "      <th>21</th>\n",
       "      <td>Binny Pete</td>\n",
       "      <td>3 BHK</td>\n",
       "      <td>1755</td>\n",
       "      <td>3.0</td>\n",
       "      <td>1.0</td>\n",
       "      <td>122.00</td>\n",
       "      <td>3</td>\n",
       "    </tr>\n",
       "    <tr>\n",
       "      <th>22</th>\n",
       "      <td>Thanisandra</td>\n",
       "      <td>4 Bedroom</td>\n",
       "      <td>2800</td>\n",
       "      <td>5.0</td>\n",
       "      <td>2.0</td>\n",
       "      <td>380.00</td>\n",
       "      <td>4</td>\n",
       "    </tr>\n",
       "    <tr>\n",
       "      <th>23</th>\n",
       "      <td>Bellandur</td>\n",
       "      <td>3 BHK</td>\n",
       "      <td>1767</td>\n",
       "      <td>3.0</td>\n",
       "      <td>1.0</td>\n",
       "      <td>103.00</td>\n",
       "      <td>3</td>\n",
       "    </tr>\n",
       "    <tr>\n",
       "      <th>24</th>\n",
       "      <td>Thanisandra</td>\n",
       "      <td>1 RK</td>\n",
       "      <td>510</td>\n",
       "      <td>1.0</td>\n",
       "      <td>0.0</td>\n",
       "      <td>25.25</td>\n",
       "      <td>1</td>\n",
       "    </tr>\n",
       "    <tr>\n",
       "      <th>25</th>\n",
       "      <td>Mangammanapalya</td>\n",
       "      <td>3 BHK</td>\n",
       "      <td>1250</td>\n",
       "      <td>3.0</td>\n",
       "      <td>2.0</td>\n",
       "      <td>56.00</td>\n",
       "      <td>3</td>\n",
       "    </tr>\n",
       "    <tr>\n",
       "      <th>26</th>\n",
       "      <td>Electronic City</td>\n",
       "      <td>2 BHK</td>\n",
       "      <td>660</td>\n",
       "      <td>1.0</td>\n",
       "      <td>1.0</td>\n",
       "      <td>23.10</td>\n",
       "      <td>2</td>\n",
       "    </tr>\n",
       "    <tr>\n",
       "      <th>27</th>\n",
       "      <td>Whitefield</td>\n",
       "      <td>3 BHK</td>\n",
       "      <td>1610</td>\n",
       "      <td>3.0</td>\n",
       "      <td>2.0</td>\n",
       "      <td>81.00</td>\n",
       "      <td>3</td>\n",
       "    </tr>\n",
       "    <tr>\n",
       "      <th>28</th>\n",
       "      <td>Ramagondanahalli</td>\n",
       "      <td>2 BHK</td>\n",
       "      <td>1151</td>\n",
       "      <td>2.0</td>\n",
       "      <td>2.0</td>\n",
       "      <td>48.77</td>\n",
       "      <td>2</td>\n",
       "    </tr>\n",
       "    <tr>\n",
       "      <th>29</th>\n",
       "      <td>Electronic City</td>\n",
       "      <td>3 BHK</td>\n",
       "      <td>1025</td>\n",
       "      <td>2.0</td>\n",
       "      <td>1.0</td>\n",
       "      <td>47.00</td>\n",
       "      <td>3</td>\n",
       "    </tr>\n",
       "    <tr>\n",
       "      <th>30</th>\n",
       "      <td>Yelahanka</td>\n",
       "      <td>4 BHK</td>\n",
       "      <td>2100 - 2850</td>\n",
       "      <td>4.0</td>\n",
       "      <td>0.0</td>\n",
       "      <td>186.00</td>\n",
       "      <td>4</td>\n",
       "    </tr>\n",
       "    <tr>\n",
       "      <th>31</th>\n",
       "      <td>Bisuvanahalli</td>\n",
       "      <td>3 BHK</td>\n",
       "      <td>1075</td>\n",
       "      <td>2.0</td>\n",
       "      <td>1.0</td>\n",
       "      <td>35.00</td>\n",
       "      <td>3</td>\n",
       "    </tr>\n",
       "    <tr>\n",
       "      <th>32</th>\n",
       "      <td>Hebbal</td>\n",
       "      <td>3 BHK</td>\n",
       "      <td>1760</td>\n",
       "      <td>2.0</td>\n",
       "      <td>2.0</td>\n",
       "      <td>123.00</td>\n",
       "      <td>3</td>\n",
       "    </tr>\n",
       "  </tbody>\n",
       "</table>\n",
       "</div>"
      ],
      "text/plain": [
       "                    location       size   total_sqft  bath  balcony   price  \\\n",
       "0   Electronic City Phase II      2 BHK         1056   2.0      1.0   39.07   \n",
       "1           Chikka Tirupathi  4 Bedroom         2600   5.0      3.0  120.00   \n",
       "2                Uttarahalli      3 BHK         1440   2.0      3.0   62.00   \n",
       "3         Lingadheeranahalli      3 BHK         1521   3.0      1.0   95.00   \n",
       "4                   Kothanur      2 BHK         1200   2.0      1.0   51.00   \n",
       "5                 Whitefield      2 BHK         1170   2.0      1.0   38.00   \n",
       "8               Marathahalli      3 BHK         1310   3.0      1.0   63.25   \n",
       "10                Whitefield      3 BHK         1800   2.0      2.0   70.00   \n",
       "11                Whitefield  4 Bedroom         2785   5.0      3.0  295.00   \n",
       "12        7th Phase JP Nagar      2 BHK         1000   2.0      1.0   38.00   \n",
       "13                 Gottigere      2 BHK         1100   2.0      2.0   40.00   \n",
       "14                  Sarjapur  3 Bedroom         2250   3.0      2.0  148.00   \n",
       "15               Mysore Road      2 BHK         1175   2.0      2.0   73.50   \n",
       "16             Bisuvanahalli      3 BHK         1180   3.0      2.0   48.00   \n",
       "17     Raja Rajeshwari Nagar      3 BHK         1540   3.0      3.0   60.00   \n",
       "18     Ramakrishnappa Layout      3 BHK         2770   4.0      2.0  290.00   \n",
       "19        Manayata Tech Park      2 BHK         1100   2.0      2.0   48.00   \n",
       "20                   Kengeri      1 BHK          600   1.0      1.0   15.00   \n",
       "21                Binny Pete      3 BHK         1755   3.0      1.0  122.00   \n",
       "22               Thanisandra  4 Bedroom         2800   5.0      2.0  380.00   \n",
       "23                 Bellandur      3 BHK         1767   3.0      1.0  103.00   \n",
       "24               Thanisandra       1 RK          510   1.0      0.0   25.25   \n",
       "25           Mangammanapalya      3 BHK         1250   3.0      2.0   56.00   \n",
       "26           Electronic City      2 BHK          660   1.0      1.0   23.10   \n",
       "27                Whitefield      3 BHK         1610   3.0      2.0   81.00   \n",
       "28          Ramagondanahalli      2 BHK         1151   2.0      2.0   48.77   \n",
       "29           Electronic City      3 BHK         1025   2.0      1.0   47.00   \n",
       "30                 Yelahanka      4 BHK  2100 - 2850   4.0      0.0  186.00   \n",
       "31             Bisuvanahalli      3 BHK         1075   2.0      1.0   35.00   \n",
       "32                    Hebbal      3 BHK         1760   2.0      2.0  123.00   \n",
       "\n",
       "    bhk  \n",
       "0     2  \n",
       "1     4  \n",
       "2     3  \n",
       "3     3  \n",
       "4     2  \n",
       "5     2  \n",
       "8     3  \n",
       "10    3  \n",
       "11    4  \n",
       "12    2  \n",
       "13    2  \n",
       "14    3  \n",
       "15    2  \n",
       "16    3  \n",
       "17    3  \n",
       "18    3  \n",
       "19    2  \n",
       "20    1  \n",
       "21    3  \n",
       "22    4  \n",
       "23    3  \n",
       "24    1  \n",
       "25    3  \n",
       "26    2  \n",
       "27    3  \n",
       "28    2  \n",
       "29    3  \n",
       "30    4  \n",
       "31    3  \n",
       "32    3  "
      ]
     },
     "execution_count": 11,
     "metadata": {},
     "output_type": "execute_result"
    }
   ],
   "source": [
    "df1.head(30)"
   ]
  },
  {
   "cell_type": "code",
   "execution_count": 12,
   "id": "8fc3e382",
   "metadata": {},
   "outputs": [
    {
     "data": {
      "text/plain": [
       "array(['1056', '2600', '1440', ..., '1133 - 1384', '774', '4689'],\n",
       "      dtype=object)"
      ]
     },
     "execution_count": 12,
     "metadata": {},
     "output_type": "execute_result"
    }
   ],
   "source": [
    "df1['total_sqft'].unique()"
   ]
  },
  {
   "cell_type": "code",
   "execution_count": 13,
   "id": "6b78a42e",
   "metadata": {},
   "outputs": [],
   "source": [
    "def is_float(x):\n",
    "    try:\n",
    "        float(x)\n",
    "    except:\n",
    "        return False \n",
    "    return True"
   ]
  },
  {
   "cell_type": "code",
   "execution_count": 14,
   "id": "32b1998c",
   "metadata": {},
   "outputs": [
    {
     "data": {
      "text/plain": [
       "False"
      ]
     },
     "execution_count": 14,
     "metadata": {},
     "output_type": "execute_result"
    }
   ],
   "source": [
    "is_float(df1['total_sqft'])"
   ]
  },
  {
   "cell_type": "code",
   "execution_count": 15,
   "id": "75cd8e11",
   "metadata": {},
   "outputs": [
    {
     "data": {
      "text/html": [
       "<div>\n",
       "<style scoped>\n",
       "    .dataframe tbody tr th:only-of-type {\n",
       "        vertical-align: middle;\n",
       "    }\n",
       "\n",
       "    .dataframe tbody tr th {\n",
       "        vertical-align: top;\n",
       "    }\n",
       "\n",
       "    .dataframe thead th {\n",
       "        text-align: right;\n",
       "    }\n",
       "</style>\n",
       "<table border=\"1\" class=\"dataframe\">\n",
       "  <thead>\n",
       "    <tr style=\"text-align: right;\">\n",
       "      <th></th>\n",
       "      <th>location</th>\n",
       "      <th>size</th>\n",
       "      <th>total_sqft</th>\n",
       "      <th>bath</th>\n",
       "      <th>balcony</th>\n",
       "      <th>price</th>\n",
       "      <th>bhk</th>\n",
       "    </tr>\n",
       "  </thead>\n",
       "  <tbody>\n",
       "    <tr>\n",
       "      <th>30</th>\n",
       "      <td>Yelahanka</td>\n",
       "      <td>4 BHK</td>\n",
       "      <td>2100 - 2850</td>\n",
       "      <td>4.0</td>\n",
       "      <td>0.0</td>\n",
       "      <td>186.000</td>\n",
       "      <td>4</td>\n",
       "    </tr>\n",
       "    <tr>\n",
       "      <th>122</th>\n",
       "      <td>Hebbal</td>\n",
       "      <td>4 BHK</td>\n",
       "      <td>3067 - 8156</td>\n",
       "      <td>4.0</td>\n",
       "      <td>0.0</td>\n",
       "      <td>477.000</td>\n",
       "      <td>4</td>\n",
       "    </tr>\n",
       "    <tr>\n",
       "      <th>137</th>\n",
       "      <td>8th Phase JP Nagar</td>\n",
       "      <td>2 BHK</td>\n",
       "      <td>1042 - 1105</td>\n",
       "      <td>2.0</td>\n",
       "      <td>0.0</td>\n",
       "      <td>54.005</td>\n",
       "      <td>2</td>\n",
       "    </tr>\n",
       "    <tr>\n",
       "      <th>165</th>\n",
       "      <td>Sarjapur</td>\n",
       "      <td>2 BHK</td>\n",
       "      <td>1145 - 1340</td>\n",
       "      <td>2.0</td>\n",
       "      <td>0.0</td>\n",
       "      <td>43.490</td>\n",
       "      <td>2</td>\n",
       "    </tr>\n",
       "    <tr>\n",
       "      <th>188</th>\n",
       "      <td>KR Puram</td>\n",
       "      <td>2 BHK</td>\n",
       "      <td>1015 - 1540</td>\n",
       "      <td>2.0</td>\n",
       "      <td>0.0</td>\n",
       "      <td>56.800</td>\n",
       "      <td>2</td>\n",
       "    </tr>\n",
       "    <tr>\n",
       "      <th>...</th>\n",
       "      <td>...</td>\n",
       "      <td>...</td>\n",
       "      <td>...</td>\n",
       "      <td>...</td>\n",
       "      <td>...</td>\n",
       "      <td>...</td>\n",
       "      <td>...</td>\n",
       "    </tr>\n",
       "    <tr>\n",
       "      <th>12975</th>\n",
       "      <td>Whitefield</td>\n",
       "      <td>2 BHK</td>\n",
       "      <td>850 - 1060</td>\n",
       "      <td>2.0</td>\n",
       "      <td>0.0</td>\n",
       "      <td>38.190</td>\n",
       "      <td>2</td>\n",
       "    </tr>\n",
       "    <tr>\n",
       "      <th>12990</th>\n",
       "      <td>Talaghattapura</td>\n",
       "      <td>3 BHK</td>\n",
       "      <td>1804 - 2273</td>\n",
       "      <td>3.0</td>\n",
       "      <td>0.0</td>\n",
       "      <td>122.000</td>\n",
       "      <td>3</td>\n",
       "    </tr>\n",
       "    <tr>\n",
       "      <th>13059</th>\n",
       "      <td>Harlur</td>\n",
       "      <td>2 BHK</td>\n",
       "      <td>1200 - 1470</td>\n",
       "      <td>2.0</td>\n",
       "      <td>0.0</td>\n",
       "      <td>72.760</td>\n",
       "      <td>2</td>\n",
       "    </tr>\n",
       "    <tr>\n",
       "      <th>13265</th>\n",
       "      <td>Hoodi</td>\n",
       "      <td>2 BHK</td>\n",
       "      <td>1133 - 1384</td>\n",
       "      <td>2.0</td>\n",
       "      <td>0.0</td>\n",
       "      <td>59.135</td>\n",
       "      <td>2</td>\n",
       "    </tr>\n",
       "    <tr>\n",
       "      <th>13299</th>\n",
       "      <td>Whitefield</td>\n",
       "      <td>4 BHK</td>\n",
       "      <td>2830 - 2882</td>\n",
       "      <td>5.0</td>\n",
       "      <td>0.0</td>\n",
       "      <td>154.500</td>\n",
       "      <td>4</td>\n",
       "    </tr>\n",
       "  </tbody>\n",
       "</table>\n",
       "<p>186 rows × 7 columns</p>\n",
       "</div>"
      ],
      "text/plain": [
       "                 location   size   total_sqft  bath  balcony    price  bhk\n",
       "30              Yelahanka  4 BHK  2100 - 2850   4.0      0.0  186.000    4\n",
       "122                Hebbal  4 BHK  3067 - 8156   4.0      0.0  477.000    4\n",
       "137    8th Phase JP Nagar  2 BHK  1042 - 1105   2.0      0.0   54.005    2\n",
       "165              Sarjapur  2 BHK  1145 - 1340   2.0      0.0   43.490    2\n",
       "188              KR Puram  2 BHK  1015 - 1540   2.0      0.0   56.800    2\n",
       "...                   ...    ...          ...   ...      ...      ...  ...\n",
       "12975          Whitefield  2 BHK   850 - 1060   2.0      0.0   38.190    2\n",
       "12990      Talaghattapura  3 BHK  1804 - 2273   3.0      0.0  122.000    3\n",
       "13059              Harlur  2 BHK  1200 - 1470   2.0      0.0   72.760    2\n",
       "13265               Hoodi  2 BHK  1133 - 1384   2.0      0.0   59.135    2\n",
       "13299          Whitefield  4 BHK  2830 - 2882   5.0      0.0  154.500    4\n",
       "\n",
       "[186 rows x 7 columns]"
      ]
     },
     "execution_count": 15,
     "metadata": {},
     "output_type": "execute_result"
    }
   ],
   "source": [
    "df1[~df1['total_sqft'].apply(is_float)]"
   ]
  },
  {
   "cell_type": "code",
   "execution_count": 16,
   "id": "0d2dd14e",
   "metadata": {},
   "outputs": [],
   "source": [
    "df2=df1.copy()"
   ]
  },
  {
   "cell_type": "code",
   "execution_count": 17,
   "id": "a69a9e73",
   "metadata": {},
   "outputs": [
    {
     "data": {
      "text/plain": [
       "location      0\n",
       "size          0\n",
       "total_sqft    0\n",
       "bath          0\n",
       "balcony       0\n",
       "price         0\n",
       "bhk           0\n",
       "dtype: int64"
      ]
     },
     "execution_count": 17,
     "metadata": {},
     "output_type": "execute_result"
    }
   ],
   "source": [
    "df2.isnull().sum()"
   ]
  },
  {
   "cell_type": "markdown",
   "id": "3baf9dd6",
   "metadata": {},
   "source": [
    "Create a function which can take avg of two values "
   ]
  },
  {
   "cell_type": "code",
   "execution_count": 18,
   "id": "d6093666",
   "metadata": {},
   "outputs": [],
   "source": [
    "def convert_sqft_to_num(x):\n",
    "    if isinstance(x,str): \n",
    "        tokens=x.split('-')\n",
    "        if len(tokens)==2:\n",
    "            return (float(tokens[0])+float(tokens[1]))/2\n",
    "    try:\n",
    "        return float(x)\n",
    "    except:\n",
    "        return None\n"
   ]
  },
  {
   "cell_type": "code",
   "execution_count": 19,
   "id": "9ecf3020",
   "metadata": {},
   "outputs": [
    {
     "data": {
      "text/plain": [
       "2475.0"
      ]
     },
     "execution_count": 19,
     "metadata": {},
     "output_type": "execute_result"
    }
   ],
   "source": [
    "convert_sqft_to_num('2100 - 2850')"
   ]
  },
  {
   "cell_type": "code",
   "execution_count": 20,
   "id": "72f1b2bb",
   "metadata": {},
   "outputs": [
    {
     "data": {
      "text/html": [
       "<div>\n",
       "<style scoped>\n",
       "    .dataframe tbody tr th:only-of-type {\n",
       "        vertical-align: middle;\n",
       "    }\n",
       "\n",
       "    .dataframe tbody tr th {\n",
       "        vertical-align: top;\n",
       "    }\n",
       "\n",
       "    .dataframe thead th {\n",
       "        text-align: right;\n",
       "    }\n",
       "</style>\n",
       "<table border=\"1\" class=\"dataframe\">\n",
       "  <thead>\n",
       "    <tr style=\"text-align: right;\">\n",
       "      <th></th>\n",
       "      <th>location</th>\n",
       "      <th>size</th>\n",
       "      <th>total_sqft</th>\n",
       "      <th>bath</th>\n",
       "      <th>balcony</th>\n",
       "      <th>price</th>\n",
       "      <th>bhk</th>\n",
       "    </tr>\n",
       "  </thead>\n",
       "  <tbody>\n",
       "    <tr>\n",
       "      <th>0</th>\n",
       "      <td>Electronic City Phase II</td>\n",
       "      <td>2 BHK</td>\n",
       "      <td>1056.0</td>\n",
       "      <td>2.0</td>\n",
       "      <td>1.0</td>\n",
       "      <td>39.07</td>\n",
       "      <td>2</td>\n",
       "    </tr>\n",
       "    <tr>\n",
       "      <th>1</th>\n",
       "      <td>Chikka Tirupathi</td>\n",
       "      <td>4 Bedroom</td>\n",
       "      <td>2600.0</td>\n",
       "      <td>5.0</td>\n",
       "      <td>3.0</td>\n",
       "      <td>120.00</td>\n",
       "      <td>4</td>\n",
       "    </tr>\n",
       "  </tbody>\n",
       "</table>\n",
       "</div>"
      ],
      "text/plain": [
       "                   location       size  total_sqft  bath  balcony   price  bhk\n",
       "0  Electronic City Phase II      2 BHK      1056.0   2.0      1.0   39.07    2\n",
       "1          Chikka Tirupathi  4 Bedroom      2600.0   5.0      3.0  120.00    4"
      ]
     },
     "execution_count": 20,
     "metadata": {},
     "output_type": "execute_result"
    }
   ],
   "source": [
    "df3 = df2.copy()\n",
    "df3.total_sqft = df3.total_sqft.apply(convert_sqft_to_num)\n",
    "df3 = df3[df3.total_sqft.notnull()]\n",
    "df3.head(2)"
   ]
  },
  {
   "cell_type": "code",
   "execution_count": 21,
   "id": "9ba0d020",
   "metadata": {},
   "outputs": [
    {
     "data": {
      "text/plain": [
       "location      Yelahanka\n",
       "size              4 BHK\n",
       "total_sqft       2475.0\n",
       "bath                4.0\n",
       "balcony             0.0\n",
       "price             186.0\n",
       "bhk                   4\n",
       "Name: 30, dtype: object"
      ]
     },
     "execution_count": 21,
     "metadata": {},
     "output_type": "execute_result"
    }
   ],
   "source": [
    "df3.loc[30]"
   ]
  },
  {
   "cell_type": "code",
   "execution_count": 22,
   "id": "0f61487e",
   "metadata": {},
   "outputs": [
    {
     "data": {
      "text/plain": [
       "location        Yelahanka\n",
       "size                4 BHK\n",
       "total_sqft    2100 - 2850\n",
       "bath                  4.0\n",
       "balcony               0.0\n",
       "price               186.0\n",
       "bhk                     4\n",
       "Name: 30, dtype: object"
      ]
     },
     "execution_count": 22,
     "metadata": {},
     "output_type": "execute_result"
    }
   ],
   "source": [
    "df2.loc[30]"
   ]
  },
  {
   "cell_type": "code",
   "execution_count": 23,
   "id": "df60d49d",
   "metadata": {},
   "outputs": [
    {
     "data": {
      "text/plain": [
       "2475.0"
      ]
     },
     "execution_count": 23,
     "metadata": {},
     "output_type": "execute_result"
    }
   ],
   "source": [
    "(2100 +2850)/2"
   ]
  },
  {
   "cell_type": "code",
   "execution_count": 24,
   "id": "e702dada",
   "metadata": {},
   "outputs": [
    {
     "data": {
      "text/plain": [
       "Index(['location', 'size', 'total_sqft', 'bath', 'balcony', 'price', 'bhk'], dtype='object')"
      ]
     },
     "execution_count": 24,
     "metadata": {},
     "output_type": "execute_result"
    }
   ],
   "source": [
    "df3.columns"
   ]
  },
  {
   "cell_type": "markdown",
   "id": "66576b74",
   "metadata": {},
   "source": [
    "### Create New coloum that is price per squarefit"
   ]
  },
  {
   "cell_type": "code",
   "execution_count": 25,
   "id": "bae3f209",
   "metadata": {},
   "outputs": [],
   "source": [
    "df3['Price_per_squarefit']=df3['price']*100000/df3['total_sqft']"
   ]
  },
  {
   "cell_type": "code",
   "execution_count": 26,
   "id": "09ef3dd5",
   "metadata": {},
   "outputs": [
    {
     "data": {
      "text/plain": [
       "(12668, 8)"
      ]
     },
     "execution_count": 26,
     "metadata": {},
     "output_type": "execute_result"
    }
   ],
   "source": [
    "df3.shape"
   ]
  },
  {
   "cell_type": "code",
   "execution_count": 27,
   "id": "adcb130d",
   "metadata": {},
   "outputs": [],
   "source": [
    "##finding unique values in location columm\n",
    "df3['location']=df3.location.apply(lambda x: x.strip())\n"
   ]
  },
  {
   "cell_type": "code",
   "execution_count": 28,
   "id": "5bd32d21",
   "metadata": {},
   "outputs": [
    {
     "data": {
      "text/plain": [
       "Wajid layout thanisandra      1\n",
       "Huttanahalli                  1\n",
       "t.c palya                     1\n",
       "St Thomas Town                1\n",
       "Sabari Nagar                  1\n",
       "                           ... \n",
       "Thanisandra                 233\n",
       "Kanakpura Road              259\n",
       "Electronic City             302\n",
       "Sarjapur  Road              372\n",
       "Whitefield                  514\n",
       "Name: location, Length: 1248, dtype: int64"
      ]
     },
     "execution_count": 28,
     "metadata": {},
     "output_type": "execute_result"
    }
   ],
   "source": [
    "location_stat=df3.location.value_counts(ascending=True)\n",
    "location_stat"
   ]
  },
  {
   "cell_type": "code",
   "execution_count": 29,
   "id": "b8c1db2c",
   "metadata": {},
   "outputs": [
    {
     "data": {
      "text/plain": [
       "1001"
      ]
     },
     "execution_count": 29,
     "metadata": {},
     "output_type": "execute_result"
    }
   ],
   "source": [
    "len(location_stat[location_stat<10])"
   ]
  },
  {
   "cell_type": "code",
   "execution_count": 30,
   "id": "3f404fe1",
   "metadata": {},
   "outputs": [],
   "source": [
    "location_stat_less10=location_stat[location_stat<10]"
   ]
  },
  {
   "cell_type": "code",
   "execution_count": 31,
   "id": "492cc25d",
   "metadata": {},
   "outputs": [
    {
     "data": {
      "text/plain": [
       "Wajid layout thanisandra    1\n",
       "Huttanahalli                1\n",
       "t.c palya                   1\n",
       "St Thomas Town              1\n",
       "Sabari Nagar                1\n",
       "                           ..\n",
       "Chennammana Kere            9\n",
       "KUDLU MAIN ROAD             9\n",
       "Dodsworth Layout            9\n",
       "Kamakshipalya               9\n",
       "Chandra Layout              9\n",
       "Name: location, Length: 1001, dtype: int64"
      ]
     },
     "execution_count": 31,
     "metadata": {},
     "output_type": "execute_result"
    }
   ],
   "source": [
    "location_stat_less10"
   ]
  },
  {
   "cell_type": "markdown",
   "id": "d39b5c3d",
   "metadata": {},
   "source": [
    "### reducing no. of values in location coloumn"
   ]
  },
  {
   "cell_type": "code",
   "execution_count": 32,
   "id": "77fd1e94",
   "metadata": {},
   "outputs": [],
   "source": [
    "df3.location=df3.location.apply(lambda x: 'other' if x in location_stat_less10 else x)"
   ]
  },
  {
   "cell_type": "code",
   "execution_count": 33,
   "id": "8f608be1",
   "metadata": {},
   "outputs": [
    {
     "data": {
      "text/plain": [
       "248"
      ]
     },
     "execution_count": 33,
     "metadata": {},
     "output_type": "execute_result"
    }
   ],
   "source": [
    "len(df3.location.unique())"
   ]
  },
  {
   "cell_type": "code",
   "execution_count": 34,
   "id": "ec392159",
   "metadata": {},
   "outputs": [],
   "source": [
    "### finding houses which having less than 300 sq.ft per room\n",
    "df4=df3.copy()"
   ]
  },
  {
   "cell_type": "code",
   "execution_count": 35,
   "id": "967e6674",
   "metadata": {},
   "outputs": [
    {
     "data": {
      "text/html": [
       "<div>\n",
       "<style scoped>\n",
       "    .dataframe tbody tr th:only-of-type {\n",
       "        vertical-align: middle;\n",
       "    }\n",
       "\n",
       "    .dataframe tbody tr th {\n",
       "        vertical-align: top;\n",
       "    }\n",
       "\n",
       "    .dataframe thead th {\n",
       "        text-align: right;\n",
       "    }\n",
       "</style>\n",
       "<table border=\"1\" class=\"dataframe\">\n",
       "  <thead>\n",
       "    <tr style=\"text-align: right;\">\n",
       "      <th></th>\n",
       "      <th>location</th>\n",
       "      <th>size</th>\n",
       "      <th>total_sqft</th>\n",
       "      <th>bath</th>\n",
       "      <th>balcony</th>\n",
       "      <th>price</th>\n",
       "      <th>bhk</th>\n",
       "      <th>Price_per_squarefit</th>\n",
       "    </tr>\n",
       "  </thead>\n",
       "  <tbody>\n",
       "    <tr>\n",
       "      <th>0</th>\n",
       "      <td>Electronic City Phase II</td>\n",
       "      <td>2 BHK</td>\n",
       "      <td>1056.0</td>\n",
       "      <td>2.0</td>\n",
       "      <td>1.0</td>\n",
       "      <td>39.07</td>\n",
       "      <td>2</td>\n",
       "      <td>3699.810606</td>\n",
       "    </tr>\n",
       "    <tr>\n",
       "      <th>1</th>\n",
       "      <td>Chikka Tirupathi</td>\n",
       "      <td>4 Bedroom</td>\n",
       "      <td>2600.0</td>\n",
       "      <td>5.0</td>\n",
       "      <td>3.0</td>\n",
       "      <td>120.00</td>\n",
       "      <td>4</td>\n",
       "      <td>4615.384615</td>\n",
       "    </tr>\n",
       "    <tr>\n",
       "      <th>2</th>\n",
       "      <td>Uttarahalli</td>\n",
       "      <td>3 BHK</td>\n",
       "      <td>1440.0</td>\n",
       "      <td>2.0</td>\n",
       "      <td>3.0</td>\n",
       "      <td>62.00</td>\n",
       "      <td>3</td>\n",
       "      <td>4305.555556</td>\n",
       "    </tr>\n",
       "    <tr>\n",
       "      <th>3</th>\n",
       "      <td>Lingadheeranahalli</td>\n",
       "      <td>3 BHK</td>\n",
       "      <td>1521.0</td>\n",
       "      <td>3.0</td>\n",
       "      <td>1.0</td>\n",
       "      <td>95.00</td>\n",
       "      <td>3</td>\n",
       "      <td>6245.890861</td>\n",
       "    </tr>\n",
       "    <tr>\n",
       "      <th>4</th>\n",
       "      <td>Kothanur</td>\n",
       "      <td>2 BHK</td>\n",
       "      <td>1200.0</td>\n",
       "      <td>2.0</td>\n",
       "      <td>1.0</td>\n",
       "      <td>51.00</td>\n",
       "      <td>2</td>\n",
       "      <td>4250.000000</td>\n",
       "    </tr>\n",
       "  </tbody>\n",
       "</table>\n",
       "</div>"
      ],
      "text/plain": [
       "                   location       size  total_sqft  bath  balcony   price  \\\n",
       "0  Electronic City Phase II      2 BHK      1056.0   2.0      1.0   39.07   \n",
       "1          Chikka Tirupathi  4 Bedroom      2600.0   5.0      3.0  120.00   \n",
       "2               Uttarahalli      3 BHK      1440.0   2.0      3.0   62.00   \n",
       "3        Lingadheeranahalli      3 BHK      1521.0   3.0      1.0   95.00   \n",
       "4                  Kothanur      2 BHK      1200.0   2.0      1.0   51.00   \n",
       "\n",
       "   bhk  Price_per_squarefit  \n",
       "0    2          3699.810606  \n",
       "1    4          4615.384615  \n",
       "2    3          4305.555556  \n",
       "3    3          6245.890861  \n",
       "4    2          4250.000000  "
      ]
     },
     "execution_count": 35,
     "metadata": {},
     "output_type": "execute_result"
    }
   ],
   "source": [
    "df4.head()"
   ]
  },
  {
   "cell_type": "code",
   "execution_count": 36,
   "id": "3aa37726",
   "metadata": {},
   "outputs": [
    {
     "data": {
      "text/html": [
       "<div>\n",
       "<style scoped>\n",
       "    .dataframe tbody tr th:only-of-type {\n",
       "        vertical-align: middle;\n",
       "    }\n",
       "\n",
       "    .dataframe tbody tr th {\n",
       "        vertical-align: top;\n",
       "    }\n",
       "\n",
       "    .dataframe thead th {\n",
       "        text-align: right;\n",
       "    }\n",
       "</style>\n",
       "<table border=\"1\" class=\"dataframe\">\n",
       "  <thead>\n",
       "    <tr style=\"text-align: right;\">\n",
       "      <th></th>\n",
       "      <th>location</th>\n",
       "      <th>size</th>\n",
       "      <th>total_sqft</th>\n",
       "      <th>bath</th>\n",
       "      <th>balcony</th>\n",
       "      <th>price</th>\n",
       "      <th>bhk</th>\n",
       "      <th>Price_per_squarefit</th>\n",
       "    </tr>\n",
       "  </thead>\n",
       "  <tbody>\n",
       "    <tr>\n",
       "      <th>58</th>\n",
       "      <td>Murugeshpalya</td>\n",
       "      <td>6 Bedroom</td>\n",
       "      <td>1407.0</td>\n",
       "      <td>4.0</td>\n",
       "      <td>1.0</td>\n",
       "      <td>150.0</td>\n",
       "      <td>6</td>\n",
       "      <td>10660.980810</td>\n",
       "    </tr>\n",
       "    <tr>\n",
       "      <th>68</th>\n",
       "      <td>Devarachikkanahalli</td>\n",
       "      <td>8 Bedroom</td>\n",
       "      <td>1350.0</td>\n",
       "      <td>7.0</td>\n",
       "      <td>0.0</td>\n",
       "      <td>85.0</td>\n",
       "      <td>8</td>\n",
       "      <td>6296.296296</td>\n",
       "    </tr>\n",
       "    <tr>\n",
       "      <th>70</th>\n",
       "      <td>other</td>\n",
       "      <td>3 Bedroom</td>\n",
       "      <td>500.0</td>\n",
       "      <td>3.0</td>\n",
       "      <td>2.0</td>\n",
       "      <td>100.0</td>\n",
       "      <td>3</td>\n",
       "      <td>20000.000000</td>\n",
       "    </tr>\n",
       "    <tr>\n",
       "      <th>78</th>\n",
       "      <td>Kaval Byrasandra</td>\n",
       "      <td>2 BHK</td>\n",
       "      <td>460.0</td>\n",
       "      <td>1.0</td>\n",
       "      <td>0.0</td>\n",
       "      <td>22.0</td>\n",
       "      <td>2</td>\n",
       "      <td>4782.608696</td>\n",
       "    </tr>\n",
       "    <tr>\n",
       "      <th>89</th>\n",
       "      <td>Rajaji Nagar</td>\n",
       "      <td>6 Bedroom</td>\n",
       "      <td>710.0</td>\n",
       "      <td>6.0</td>\n",
       "      <td>3.0</td>\n",
       "      <td>160.0</td>\n",
       "      <td>6</td>\n",
       "      <td>22535.211268</td>\n",
       "    </tr>\n",
       "    <tr>\n",
       "      <th>...</th>\n",
       "      <td>...</td>\n",
       "      <td>...</td>\n",
       "      <td>...</td>\n",
       "      <td>...</td>\n",
       "      <td>...</td>\n",
       "      <td>...</td>\n",
       "      <td>...</td>\n",
       "      <td>...</td>\n",
       "    </tr>\n",
       "    <tr>\n",
       "      <th>13219</th>\n",
       "      <td>Laggere</td>\n",
       "      <td>7 Bedroom</td>\n",
       "      <td>1590.0</td>\n",
       "      <td>9.0</td>\n",
       "      <td>3.0</td>\n",
       "      <td>132.0</td>\n",
       "      <td>7</td>\n",
       "      <td>8301.886792</td>\n",
       "    </tr>\n",
       "    <tr>\n",
       "      <th>13221</th>\n",
       "      <td>other</td>\n",
       "      <td>9 Bedroom</td>\n",
       "      <td>1178.0</td>\n",
       "      <td>9.0</td>\n",
       "      <td>1.0</td>\n",
       "      <td>75.0</td>\n",
       "      <td>9</td>\n",
       "      <td>6366.723260</td>\n",
       "    </tr>\n",
       "    <tr>\n",
       "      <th>13281</th>\n",
       "      <td>Margondanahalli</td>\n",
       "      <td>5 Bedroom</td>\n",
       "      <td>1375.0</td>\n",
       "      <td>5.0</td>\n",
       "      <td>1.0</td>\n",
       "      <td>125.0</td>\n",
       "      <td>5</td>\n",
       "      <td>9090.909091</td>\n",
       "    </tr>\n",
       "    <tr>\n",
       "      <th>13303</th>\n",
       "      <td>Vidyaranyapura</td>\n",
       "      <td>5 Bedroom</td>\n",
       "      <td>774.0</td>\n",
       "      <td>5.0</td>\n",
       "      <td>3.0</td>\n",
       "      <td>70.0</td>\n",
       "      <td>5</td>\n",
       "      <td>9043.927649</td>\n",
       "    </tr>\n",
       "    <tr>\n",
       "      <th>13311</th>\n",
       "      <td>Ramamurthy Nagar</td>\n",
       "      <td>7 Bedroom</td>\n",
       "      <td>1500.0</td>\n",
       "      <td>9.0</td>\n",
       "      <td>2.0</td>\n",
       "      <td>250.0</td>\n",
       "      <td>7</td>\n",
       "      <td>16666.666667</td>\n",
       "    </tr>\n",
       "  </tbody>\n",
       "</table>\n",
       "<p>655 rows × 8 columns</p>\n",
       "</div>"
      ],
      "text/plain": [
       "                  location       size  total_sqft  bath  balcony  price  bhk  \\\n",
       "58           Murugeshpalya  6 Bedroom      1407.0   4.0      1.0  150.0    6   \n",
       "68     Devarachikkanahalli  8 Bedroom      1350.0   7.0      0.0   85.0    8   \n",
       "70                   other  3 Bedroom       500.0   3.0      2.0  100.0    3   \n",
       "78        Kaval Byrasandra      2 BHK       460.0   1.0      0.0   22.0    2   \n",
       "89            Rajaji Nagar  6 Bedroom       710.0   6.0      3.0  160.0    6   \n",
       "...                    ...        ...         ...   ...      ...    ...  ...   \n",
       "13219              Laggere  7 Bedroom      1590.0   9.0      3.0  132.0    7   \n",
       "13221                other  9 Bedroom      1178.0   9.0      1.0   75.0    9   \n",
       "13281      Margondanahalli  5 Bedroom      1375.0   5.0      1.0  125.0    5   \n",
       "13303       Vidyaranyapura  5 Bedroom       774.0   5.0      3.0   70.0    5   \n",
       "13311     Ramamurthy Nagar  7 Bedroom      1500.0   9.0      2.0  250.0    7   \n",
       "\n",
       "       Price_per_squarefit  \n",
       "58            10660.980810  \n",
       "68             6296.296296  \n",
       "70            20000.000000  \n",
       "78             4782.608696  \n",
       "89            22535.211268  \n",
       "...                    ...  \n",
       "13219          8301.886792  \n",
       "13221          6366.723260  \n",
       "13281          9090.909091  \n",
       "13303          9043.927649  \n",
       "13311         16666.666667  \n",
       "\n",
       "[655 rows x 8 columns]"
      ]
     },
     "execution_count": 36,
     "metadata": {},
     "output_type": "execute_result"
    }
   ],
   "source": [
    "df4[df4.total_sqft/df4.bhk<300]"
   ]
  },
  {
   "cell_type": "code",
   "execution_count": 37,
   "id": "193742fa",
   "metadata": {},
   "outputs": [],
   "source": [
    "df5=df4[~(df4.total_sqft/df4.bhk<300)]"
   ]
  },
  {
   "cell_type": "code",
   "execution_count": 38,
   "id": "c0ce0846",
   "metadata": {},
   "outputs": [
    {
     "data": {
      "text/plain": [
       "(12013, 8)"
      ]
     },
     "execution_count": 38,
     "metadata": {},
     "output_type": "execute_result"
    }
   ],
   "source": [
    "df5.shape"
   ]
  },
  {
   "cell_type": "code",
   "execution_count": 39,
   "id": "1af23b28",
   "metadata": {},
   "outputs": [
    {
     "data": {
      "text/plain": [
       "(12668, 8)"
      ]
     },
     "execution_count": 39,
     "metadata": {},
     "output_type": "execute_result"
    }
   ],
   "source": [
    "df4.shape"
   ]
  },
  {
   "cell_type": "code",
   "execution_count": 40,
   "id": "c0c33c64",
   "metadata": {},
   "outputs": [],
   "source": [
    "####Removing outlier from price per sqft"
   ]
  },
  {
   "cell_type": "code",
   "execution_count": 41,
   "id": "0cd7a922",
   "metadata": {},
   "outputs": [
    {
     "data": {
      "text/plain": [
       "count     12013.000000\n",
       "mean       6206.082347\n",
       "std        3985.518807\n",
       "min         267.829813\n",
       "25%        4199.363057\n",
       "50%        5252.525253\n",
       "75%        6823.529412\n",
       "max      176470.588235\n",
       "Name: Price_per_squarefit, dtype: float64"
      ]
     },
     "execution_count": 41,
     "metadata": {},
     "output_type": "execute_result"
    }
   ],
   "source": [
    "df5.Price_per_squarefit.describe()"
   ]
  },
  {
   "cell_type": "code",
   "execution_count": 42,
   "id": "b0d28f57",
   "metadata": {},
   "outputs": [],
   "source": [
    "###removing outlier which belongs to the the 1 std deviation "
   ]
  },
  {
   "cell_type": "markdown",
   "id": "ed7107b0",
   "metadata": {},
   "source": [
    "def outlier(df):\n",
    "    df_out=pd.DataFrame()\n",
    "    for  key, subdf in df.groupby('location'):\n",
    "        std=np.std(subdf.Price_per_squarefit)\n",
    "        m=np.mean(subdf.Price_per_squarefit)\n",
    "        newdf=subdf[(subdf.Price_per_squarefit>(m-std) & subdf.Price_per_squarefit<=(m+std))]\n",
    "        df_out=pd.concat([df_out,newdf],ignore_index=True)\n",
    "        return df_out\n",
    "a=outlier(df5)"
   ]
  },
  {
   "cell_type": "code",
   "execution_count": 43,
   "id": "0a57489e",
   "metadata": {},
   "outputs": [
    {
     "data": {
      "text/plain": [
       "(9829, 8)"
      ]
     },
     "execution_count": 43,
     "metadata": {},
     "output_type": "execute_result"
    }
   ],
   "source": [
    "def remove_pps_outliers(df):\n",
    "    df_out = pd.DataFrame()\n",
    "    for key, subdf in df.groupby('location'):\n",
    "        m = np.mean(subdf.Price_per_squarefit)\n",
    "        st = np.std(subdf.Price_per_squarefit)\n",
    "        reduced_df = subdf[(subdf.Price_per_squarefit>(m-st)) & (subdf.Price_per_squarefit<=(m+st))]\n",
    "        df_out = pd.concat([df_out,reduced_df],ignore_index=True)\n",
    "    return df_out\n",
    "df6 = remove_pps_outliers(df5)\n",
    "df6.shape"
   ]
  },
  {
   "cell_type": "code",
   "execution_count": 44,
   "id": "b7125f39",
   "metadata": {},
   "outputs": [
    {
     "data": {
      "text/plain": [
       "Index(['location', 'size', 'total_sqft', 'bath', 'balcony', 'price', 'bhk',\n",
       "       'Price_per_squarefit'],\n",
       "      dtype='object')"
      ]
     },
     "execution_count": 44,
     "metadata": {},
     "output_type": "execute_result"
    }
   ],
   "source": [
    "df6.columns"
   ]
  },
  {
   "cell_type": "code",
   "execution_count": 45,
   "id": "2e9afe10",
   "metadata": {},
   "outputs": [],
   "source": [
    "### scater ploat for 2-3 bhk in same location\n",
    "def scatter(df,location):\n",
    "    bhk2=df[(df.location == location) & (df.bhk==2)]\n",
    "    bhk3=df[(df.location==location) & (df.bhk==3)]\n",
    "    plt.scatter(bhk2.total_sqft,bhk2.Price_per_squarefit,color='red')\n",
    "    plt.scatter(bhk3.total_sqft,bhk3.Price_per_squarefit,color='green')\n",
    "    plt.xlabel('Toatl square feet')\n",
    "    plt.ylabel('Price per square feet')\n"
   ]
  },
  {
   "cell_type": "code",
   "execution_count": 46,
   "id": "1ff17b6c",
   "metadata": {},
   "outputs": [
    {
     "data": {
      "image/png": "[encoded data removed]",
      "text/plain": [
       "<Figure size 432x288 with 1 Axes>"
      ]
     },
     "metadata": {
      "needs_background": "light"
     },
     "output_type": "display_data"
    }
   ],
   "source": [
    "scatter(df6,\"Rajaji Nagar\")"
   ]
  },
  {
   "cell_type": "code",
   "execution_count": 47,
   "id": "eae41ef2",
   "metadata": {},
   "outputs": [
    {
     "data": {
      "image/png": "[encoded data removed]",
      "text/plain": [
       "<Figure size 432x288 with 1 Axes>"
      ]
     },
     "metadata": {
      "needs_background": "light"
     },
     "output_type": "display_data"
    }
   ],
   "source": [
    "scatter(df6,\"Hebbal\")"
   ]
  },
  {
   "cell_type": "markdown",
   "id": "014ca2f4",
   "metadata": {},
   "source": [
    "#### Now we can remove those 2 BHK apartments whose price_per_sqft is less than mean price_per_sqft of 1 BHK apartment"
   ]
  },
  {
   "cell_type": "code",
   "execution_count": 48,
   "id": "108f782e",
   "metadata": {},
   "outputs": [
    {
     "data": {
      "text/plain": [
       "(7063, 8)"
      ]
     },
     "execution_count": 48,
     "metadata": {},
     "output_type": "execute_result"
    }
   ],
   "source": [
    "def remove_bhk_outliers(df):\n",
    "    exclude_indices = np.array([])\n",
    "    for location, location_df in df.groupby('location'):\n",
    "        bhk_stats = {}\n",
    "        for bhk, bhk_df in location_df.groupby('bhk'):\n",
    "            bhk_stats[bhk] = {\n",
    "                'mean': np.mean(bhk_df.Price_per_squarefit),\n",
    "                'std': np.std(bhk_df.Price_per_squarefit),\n",
    "                'count': bhk_df.shape[0]\n",
    "            }\n",
    "        for bhk, bhk_df in location_df.groupby('bhk'):\n",
    "            stats = bhk_stats.get(bhk-1)\n",
    "            if stats and stats['count']>5:\n",
    "                exclude_indices = np.append(exclude_indices, bhk_df[bhk_df.Price_per_squarefit<(stats['mean'])].index.values)\n",
    "    return df.drop(exclude_indices,axis='index')\n",
    "df7 = remove_bhk_outliers(df6)\n",
    "\n",
    "df7.shape"
   ]
  },
  {
   "cell_type": "markdown",
   "id": "1d1c503c",
   "metadata": {},
   "source": [
    "Removing outliers from bathroom\n",
    "We are assuming that no. bathroom should not be greater than no. rooms"
   ]
  },
  {
   "cell_type": "code",
   "execution_count": 49,
   "id": "721d3866",
   "metadata": {},
   "outputs": [
    {
     "data": {
      "text/html": [
       "<div>\n",
       "<style scoped>\n",
       "    .dataframe tbody tr th:only-of-type {\n",
       "        vertical-align: middle;\n",
       "    }\n",
       "\n",
       "    .dataframe tbody tr th {\n",
       "        vertical-align: top;\n",
       "    }\n",
       "\n",
       "    .dataframe thead th {\n",
       "        text-align: right;\n",
       "    }\n",
       "</style>\n",
       "<table border=\"1\" class=\"dataframe\">\n",
       "  <thead>\n",
       "    <tr style=\"text-align: right;\">\n",
       "      <th></th>\n",
       "      <th>location</th>\n",
       "      <th>size</th>\n",
       "      <th>total_sqft</th>\n",
       "      <th>bath</th>\n",
       "      <th>balcony</th>\n",
       "      <th>price</th>\n",
       "      <th>bhk</th>\n",
       "      <th>Price_per_squarefit</th>\n",
       "    </tr>\n",
       "  </thead>\n",
       "  <tbody>\n",
       "    <tr>\n",
       "      <th>0</th>\n",
       "      <td>1st Block Jayanagar</td>\n",
       "      <td>4 BHK</td>\n",
       "      <td>2850.0</td>\n",
       "      <td>4.0</td>\n",
       "      <td>1.0</td>\n",
       "      <td>428.0</td>\n",
       "      <td>4</td>\n",
       "      <td>15017.543860</td>\n",
       "    </tr>\n",
       "    <tr>\n",
       "      <th>1</th>\n",
       "      <td>1st Block Jayanagar</td>\n",
       "      <td>3 BHK</td>\n",
       "      <td>1630.0</td>\n",
       "      <td>3.0</td>\n",
       "      <td>2.0</td>\n",
       "      <td>194.0</td>\n",
       "      <td>3</td>\n",
       "      <td>11901.840491</td>\n",
       "    </tr>\n",
       "    <tr>\n",
       "      <th>2</th>\n",
       "      <td>1st Block Jayanagar</td>\n",
       "      <td>3 BHK</td>\n",
       "      <td>1875.0</td>\n",
       "      <td>2.0</td>\n",
       "      <td>3.0</td>\n",
       "      <td>235.0</td>\n",
       "      <td>3</td>\n",
       "      <td>12533.333333</td>\n",
       "    </tr>\n",
       "    <tr>\n",
       "      <th>3</th>\n",
       "      <td>1st Block Jayanagar</td>\n",
       "      <td>3 BHK</td>\n",
       "      <td>1200.0</td>\n",
       "      <td>2.0</td>\n",
       "      <td>0.0</td>\n",
       "      <td>130.0</td>\n",
       "      <td>3</td>\n",
       "      <td>10833.333333</td>\n",
       "    </tr>\n",
       "    <tr>\n",
       "      <th>4</th>\n",
       "      <td>1st Block Jayanagar</td>\n",
       "      <td>2 BHK</td>\n",
       "      <td>1235.0</td>\n",
       "      <td>2.0</td>\n",
       "      <td>2.0</td>\n",
       "      <td>148.0</td>\n",
       "      <td>2</td>\n",
       "      <td>11983.805668</td>\n",
       "    </tr>\n",
       "    <tr>\n",
       "      <th>...</th>\n",
       "      <td>...</td>\n",
       "      <td>...</td>\n",
       "      <td>...</td>\n",
       "      <td>...</td>\n",
       "      <td>...</td>\n",
       "      <td>...</td>\n",
       "      <td>...</td>\n",
       "      <td>...</td>\n",
       "    </tr>\n",
       "    <tr>\n",
       "      <th>9819</th>\n",
       "      <td>other</td>\n",
       "      <td>2 BHK</td>\n",
       "      <td>1155.0</td>\n",
       "      <td>2.0</td>\n",
       "      <td>1.0</td>\n",
       "      <td>64.0</td>\n",
       "      <td>2</td>\n",
       "      <td>5541.125541</td>\n",
       "    </tr>\n",
       "    <tr>\n",
       "      <th>9821</th>\n",
       "      <td>other</td>\n",
       "      <td>2 BHK</td>\n",
       "      <td>1200.0</td>\n",
       "      <td>2.0</td>\n",
       "      <td>3.0</td>\n",
       "      <td>70.0</td>\n",
       "      <td>2</td>\n",
       "      <td>5833.333333</td>\n",
       "    </tr>\n",
       "    <tr>\n",
       "      <th>9822</th>\n",
       "      <td>other</td>\n",
       "      <td>1 BHK</td>\n",
       "      <td>1800.0</td>\n",
       "      <td>1.0</td>\n",
       "      <td>1.0</td>\n",
       "      <td>200.0</td>\n",
       "      <td>1</td>\n",
       "      <td>11111.111111</td>\n",
       "    </tr>\n",
       "    <tr>\n",
       "      <th>9825</th>\n",
       "      <td>other</td>\n",
       "      <td>2 BHK</td>\n",
       "      <td>1353.0</td>\n",
       "      <td>2.0</td>\n",
       "      <td>2.0</td>\n",
       "      <td>110.0</td>\n",
       "      <td>2</td>\n",
       "      <td>8130.081301</td>\n",
       "    </tr>\n",
       "    <tr>\n",
       "      <th>9826</th>\n",
       "      <td>other</td>\n",
       "      <td>1 Bedroom</td>\n",
       "      <td>812.0</td>\n",
       "      <td>1.0</td>\n",
       "      <td>0.0</td>\n",
       "      <td>26.0</td>\n",
       "      <td>1</td>\n",
       "      <td>3201.970443</td>\n",
       "    </tr>\n",
       "  </tbody>\n",
       "</table>\n",
       "<p>6996 rows × 8 columns</p>\n",
       "</div>"
      ],
      "text/plain": [
       "                 location       size  total_sqft  bath  balcony  price  bhk  \\\n",
       "0     1st Block Jayanagar      4 BHK      2850.0   4.0      1.0  428.0    4   \n",
       "1     1st Block Jayanagar      3 BHK      1630.0   3.0      2.0  194.0    3   \n",
       "2     1st Block Jayanagar      3 BHK      1875.0   2.0      3.0  235.0    3   \n",
       "3     1st Block Jayanagar      3 BHK      1200.0   2.0      0.0  130.0    3   \n",
       "4     1st Block Jayanagar      2 BHK      1235.0   2.0      2.0  148.0    2   \n",
       "...                   ...        ...         ...   ...      ...    ...  ...   \n",
       "9819                other      2 BHK      1155.0   2.0      1.0   64.0    2   \n",
       "9821                other      2 BHK      1200.0   2.0      3.0   70.0    2   \n",
       "9822                other      1 BHK      1800.0   1.0      1.0  200.0    1   \n",
       "9825                other      2 BHK      1353.0   2.0      2.0  110.0    2   \n",
       "9826                other  1 Bedroom       812.0   1.0      0.0   26.0    1   \n",
       "\n",
       "      Price_per_squarefit  \n",
       "0            15017.543860  \n",
       "1            11901.840491  \n",
       "2            12533.333333  \n",
       "3            10833.333333  \n",
       "4            11983.805668  \n",
       "...                   ...  \n",
       "9819          5541.125541  \n",
       "9821          5833.333333  \n",
       "9822         11111.111111  \n",
       "9825          8130.081301  \n",
       "9826          3201.970443  \n",
       "\n",
       "[6996 rows x 8 columns]"
      ]
     },
     "execution_count": 49,
     "metadata": {},
     "output_type": "execute_result"
    }
   ],
   "source": [
    "df7[(df7.bath<df7.bhk+2)]"
   ]
  },
  {
   "cell_type": "code",
   "execution_count": 50,
   "id": "b25ea471",
   "metadata": {},
   "outputs": [
    {
     "data": {
      "text/plain": [
       "(6996, 8)"
      ]
     },
     "execution_count": 50,
     "metadata": {},
     "output_type": "execute_result"
    }
   ],
   "source": [
    "df8=df7[(df7.bath<df7.bhk+2)]\n",
    "df8.shape"
   ]
  },
  {
   "cell_type": "code",
   "execution_count": 51,
   "id": "0fbc44ee",
   "metadata": {},
   "outputs": [
    {
     "data": {
      "text/plain": [
       "(7063, 8)"
      ]
     },
     "execution_count": 51,
     "metadata": {},
     "output_type": "execute_result"
    }
   ],
   "source": [
    "df7.shape"
   ]
  },
  {
   "cell_type": "code",
   "execution_count": 52,
   "id": "6b8c7caf",
   "metadata": {},
   "outputs": [],
   "source": [
    "df7=df7.drop(['size','Price_per_squarefit'],1)"
   ]
  },
  {
   "cell_type": "code",
   "execution_count": 53,
   "id": "b17a5a24",
   "metadata": {},
   "outputs": [
    {
     "data": {
      "text/plain": [
       "(7063, 6)"
      ]
     },
     "execution_count": 53,
     "metadata": {},
     "output_type": "execute_result"
    }
   ],
   "source": [
    "df7.shape"
   ]
  },
  {
   "cell_type": "code",
   "execution_count": 54,
   "id": "d018fc61",
   "metadata": {},
   "outputs": [],
   "source": [
    "dummies=pd.get_dummies(df7.location)"
   ]
  },
  {
   "cell_type": "code",
   "execution_count": 55,
   "id": "00da8ada",
   "metadata": {},
   "outputs": [
    {
     "data": {
      "text/plain": [
       "(7063, 248)"
      ]
     },
     "execution_count": 55,
     "metadata": {},
     "output_type": "execute_result"
    }
   ],
   "source": [
    "dummies.shape"
   ]
  },
  {
   "cell_type": "code",
   "execution_count": 56,
   "id": "b74c9005",
   "metadata": {},
   "outputs": [
    {
     "data": {
      "text/plain": [
       "(7063, 254)"
      ]
     },
     "execution_count": 56,
     "metadata": {},
     "output_type": "execute_result"
    }
   ],
   "source": [
    "df10=pd.concat([df7,dummies],1)\n",
    "df10.shape"
   ]
  },
  {
   "cell_type": "code",
   "execution_count": 57,
   "id": "3f326800",
   "metadata": {},
   "outputs": [],
   "source": [
    "df10=df10.drop(['location','other'],1)"
   ]
  },
  {
   "cell_type": "code",
   "execution_count": 58,
   "id": "13cb9d88",
   "metadata": {},
   "outputs": [
    {
     "data": {
      "text/plain": [
       "(7063, 252)"
      ]
     },
     "execution_count": 58,
     "metadata": {},
     "output_type": "execute_result"
    }
   ],
   "source": [
    "df10.shape"
   ]
  },
  {
   "cell_type": "markdown",
   "id": "f5efdb28",
   "metadata": {},
   "source": [
    "# MOdel building"
   ]
  },
  {
   "cell_type": "code",
   "execution_count": 59,
   "id": "e08e90f5",
   "metadata": {},
   "outputs": [],
   "source": [
    "X=df10.drop('price',1)"
   ]
  },
  {
   "cell_type": "code",
   "execution_count": 60,
   "id": "602f9ba6",
   "metadata": {},
   "outputs": [],
   "source": [
    "y=df10.price"
   ]
  },
  {
   "cell_type": "code",
   "execution_count": 61,
   "id": "0455f21b",
   "metadata": {},
   "outputs": [],
   "source": [
    "\n",
    "from sklearn.model_selection import train_test_split\n",
    "X_train, X_test, y_train, y_test = train_test_split(X,y,test_size=0.2,random_state=10)"
   ]
  },
  {
   "cell_type": "code",
   "execution_count": 62,
   "id": "5ff56fb5",
   "metadata": {},
   "outputs": [
    {
     "data": {
      "text/plain": [
       "0.8572567752652056"
      ]
     },
     "execution_count": 62,
     "metadata": {},
     "output_type": "execute_result"
    }
   ],
   "source": [
    "from sklearn.linear_model import LinearRegression\n",
    "lr=LinearRegression()\n",
    "lr.fit(X_train,y_train)\n",
    "lr.score(X_test,y_test)"
   ]
  },
  {
   "cell_type": "markdown",
   "id": "ce2da395",
   "metadata": {},
   "source": [
    "# K- fold cross validation"
   ]
  },
  {
   "cell_type": "code",
   "execution_count": 63,
   "id": "6cb3b748",
   "metadata": {},
   "outputs": [
    {
     "data": {
      "text/plain": [
       "array([0.87975852, 0.80502593, 0.8031372 , 0.7945474 , 0.88786088])"
      ]
     },
     "execution_count": 63,
     "metadata": {},
     "output_type": "execute_result"
    }
   ],
   "source": [
    "from sklearn.model_selection import ShuffleSplit,cross_val_score\n",
    "cv=ShuffleSplit(n_splits=5,test_size=0.2,random_state=0)\n",
    "cross_val_score(LinearRegression(),X,y,cv=cv)"
   ]
  },
  {
   "cell_type": "markdown",
   "id": "ba5a35e7",
   "metadata": {},
   "source": [
    "# use hyper parameter tuning:-gride"
   ]
  },
  {
   "cell_type": "code",
   "execution_count": 64,
   "id": "f87e995b",
   "metadata": {},
   "outputs": [],
   "source": [
    "from sklearn.model_selection import GridSearchCV\n",
    "from sklearn.linear_model import Lasso\n",
    "from sklearn.tree import DecisionTreeRegressor"
   ]
  },
  {
   "cell_type": "code",
   "execution_count": 65,
   "id": "af67a80e",
   "metadata": {},
   "outputs": [
    {
     "data": {
      "text/html": [
       "<div>\n",
       "<style scoped>\n",
       "    .dataframe tbody tr th:only-of-type {\n",
       "        vertical-align: middle;\n",
       "    }\n",
       "\n",
       "    .dataframe tbody tr th {\n",
       "        vertical-align: top;\n",
       "    }\n",
       "\n",
       "    .dataframe thead th {\n",
       "        text-align: right;\n",
       "    }\n",
       "</style>\n",
       "<table border=\"1\" class=\"dataframe\">\n",
       "  <thead>\n",
       "    <tr style=\"text-align: right;\">\n",
       "      <th></th>\n",
       "      <th>model name</th>\n",
       "      <th>model score</th>\n",
       "      <th>best_params</th>\n",
       "    </tr>\n",
       "  </thead>\n",
       "  <tbody>\n",
       "    <tr>\n",
       "      <th>0</th>\n",
       "      <td>linear_regression</td>\n",
       "      <td>0.834066</td>\n",
       "      <td>{'normalize': False}</td>\n",
       "    </tr>\n",
       "    <tr>\n",
       "      <th>1</th>\n",
       "      <td>lasso</td>\n",
       "      <td>0.686157</td>\n",
       "      <td>{'alpha': 1, 'selection': 'cyclic'}</td>\n",
       "    </tr>\n",
       "    <tr>\n",
       "      <th>2</th>\n",
       "      <td>Decision tree</td>\n",
       "      <td>0.732259</td>\n",
       "      <td>{'criterion': 'mse', 'splitter': 'random'}</td>\n",
       "    </tr>\n",
       "  </tbody>\n",
       "</table>\n",
       "</div>"
      ],
      "text/plain": [
       "          model name  model score                                 best_params\n",
       "0  linear_regression     0.834066                        {'normalize': False}\n",
       "1              lasso     0.686157         {'alpha': 1, 'selection': 'cyclic'}\n",
       "2      Decision tree     0.732259  {'criterion': 'mse', 'splitter': 'random'}"
      ]
     },
     "execution_count": 65,
     "metadata": {},
     "output_type": "execute_result"
    }
   ],
   "source": [
    "def best_para_gv(x,y):\n",
    "    algos={\n",
    "        \n",
    "        'linear_regression':{'model':LinearRegression(),'params': {'normalize': [True, False]}},\n",
    "        'lasso':{'model':Lasso(),'params': {\n",
    "                'alpha': [1,2],\n",
    "                'selection': ['random', 'cyclic']\n",
    "            }},\n",
    "        'Decision tree':{'model':DecisionTreeRegressor(),'params': {\n",
    "                'criterion' : ['mse','friedman_mse'],\n",
    "                'splitter': ['best','random']\n",
    "            }\n",
    "          }\n",
    "        \n",
    "    }\n",
    "    score=[]\n",
    "    for algo_name,config in algos.items():\n",
    "        cv=ShuffleSplit(n_splits=5,test_size=0.2,random_state=0)\n",
    "        gs=GridSearchCV(config['model'],config['params'],cv=cv,return_train_score=False)\n",
    "        gs.fit(X,y)\n",
    "        score.append({'model name':algo_name,'model score':gs.best_score_,'best_params': gs.best_params_})\n",
    "    return pd.DataFrame(score,columns=['model name','model score','best_params'])\n",
    "best_para_gv(X,y)\n"
   ]
  },
  {
   "cell_type": "code",
   "execution_count": 72,
   "id": "eda3d4d3",
   "metadata": {},
   "outputs": [],
   "source": [
    "def predict(location,sqrt,bath,bhk):\n",
    "    loc_index=np.where(X.columns==location)[0][0]\n",
    "    x=np.zeros(len(X.columns))\n",
    "    x[0]= sqrt\n",
    "    x[1]= bath\n",
    "    x[2]= bhk\n",
    "    if loc_index>=0:\n",
    "        x[loc_index]=1\n",
    "    return lr.predict([x])[0]"
   ]
  },
  {
   "cell_type": "code",
   "execution_count": 73,
   "id": "f829395a",
   "metadata": {},
   "outputs": [
    {
     "data": {
      "text/plain": [
       "Index(['total_sqft', 'bath', 'balcony', 'bhk', '1st Block Jayanagar',\n",
       "       '1st Block Koramangala', '1st Phase JP Nagar',\n",
       "       '2nd Phase Judicial Layout', '2nd Stage Nagarbhavi',\n",
       "       '5th Phase JP Nagar',\n",
       "       ...\n",
       "       'Vijayanagar', 'Vishveshwarya Layout', 'Vishwapriya Layout',\n",
       "       'Vittasandra', 'Whitefield', 'Yelachenahalli', 'Yelahanka',\n",
       "       'Yelahanka New Town', 'Yelenahalli', 'Yeshwanthpur'],\n",
       "      dtype='object', length=251)"
      ]
     },
     "execution_count": 73,
     "metadata": {},
     "output_type": "execute_result"
    }
   ],
   "source": [
    "X.columns"
   ]
  },
  {
   "cell_type": "code",
   "execution_count": 80,
   "id": "c418da4e",
   "metadata": {},
   "outputs": [
    {
     "data": {
      "text/plain": [
       "156.28838255521075"
      ]
     },
     "execution_count": 80,
     "metadata": {},
     "output_type": "execute_result"
    }
   ],
   "source": [
    "predict('Vijayanagar',2000,4,4)"
   ]
  },
  {
   "cell_type": "markdown",
   "id": "50ae9e50",
   "metadata": {},
   "source": [
    "# Export the tested model to a pickle file"
   ]
  },
  {
   "cell_type": "code",
   "execution_count": 82,
   "id": "3c20327d",
   "metadata": {},
   "outputs": [],
   "source": [
    "import pickle\n",
    "with open('banglore_home_prices_model.pickle','wb') as f:\n",
    "    pickle.dump(lr,f)"
   ]
  },
  {
   "cell_type": "markdown",
   "id": "faa77158",
   "metadata": {},
   "source": [
    "# Export location and column information to a file that will be useful later on in our prediction application"
   ]
  },
  {
   "cell_type": "code",
   "execution_count": 83,
   "id": "9ab42608",
   "metadata": {},
   "outputs": [],
   "source": [
    "import json\n",
    "columns = {\n",
    "    'data_columns' : [col.lower() for col in X.columns]\n",
    "}\n",
    "with open(\"columns.json\",\"w\") as f:\n",
    "    f.write(json.dumps(columns))"
   ]
  },
  {
   "cell_type": "code",
   "execution_count": null,
   "id": "280e1f30",
   "metadata": {},
   "outputs": [],
   "source": []
  }
 ],
 "metadata": {
  "kernelspec": {
   "display_name": "Python 3",
   "language": "python",
   "name": "python3"
  },
  "language_info": {
   "codemirror_mode": {
    "name": "ipython",
    "version": 3
   },
   "file_extension": ".py",
   "mimetype": "text/x-python",
   "name": "python",
   "nbconvert_exporter": "python",
   "pygments_lexer": "ipython3",
   "version": "3.8.8"
  }
 },
 "nbformat": 4,
 "nbformat_minor": 5
}
